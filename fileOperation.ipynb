{
  "cells": [
    {
      "metadata": {
        "trusted": true
      },
      "cell_type": "code",
      "source": "def add_numbers():\n    # Open file for reading\n    infile = open('numbers.txt','r')\n\n#Read three numbers for the file\n    num1 = int(infile.readline()) \n    num2 = int(infile.readline())           \n    num3 = int(infile.readline()) \n#Close the file.\n    infile.close()\n\n#Add the three numbers.\n    total = num1 + num2 + num3 \n\n#Display the numbers and their total\n    print('The numbers are:',num1, num2, num3)\n    print('Their total is:', total)\n\n#Call the main function\nadd_numbers()\n\n",
      "execution_count": 10,
      "outputs": [
        {
          "output_type": "error",
          "ename": "IndentationError",
          "evalue": "unexpected indent (<ipython-input-10-57b273b0931c>, line 23)",
          "traceback": [
            "\u001b[0;36m  File \u001b[0;32m\"<ipython-input-10-57b273b0931c>\"\u001b[0;36m, line \u001b[0;32m23\u001b[0m\n\u001b[0;31m    infile = open('numbers.txt','r')\u001b[0m\n\u001b[0m    ^\u001b[0m\n\u001b[0;31mIndentationError\u001b[0m\u001b[0;31m:\u001b[0m unexpected indent\n"
          ]
        }
      ]
    },
    {
      "metadata": {
        "trusted": true
      },
      "cell_type": "code",
      "source": "def add_numbers():\n# Open file for reading\n    infile = open('numbers.txt','r')\n\n#Read three numbers for the file\n    total = 0\n    line =infile.readline()\n    while line! = \n        num = int(line)\n        total = total + num\n        line = infile.readline()\n    \n    print(\"total:\", str(total))\n    infile.close()\n        \n    \n\n\n",
      "execution_count": 14,
      "outputs": [
        {
          "output_type": "error",
          "ename": "SyntaxError",
          "evalue": "invalid syntax (<ipython-input-14-1014b2a081e4>, line 8)",
          "traceback": [
            "\u001b[0;36m  File \u001b[0;32m\"<ipython-input-14-1014b2a081e4>\"\u001b[0;36m, line \u001b[0;32m8\u001b[0m\n\u001b[0;31m    while line! =\u001b[0m\n\u001b[0m              ^\u001b[0m\n\u001b[0;31mSyntaxError\u001b[0m\u001b[0;31m:\u001b[0m invalid syntax\n"
          ]
        }
      ]
    },
    {
      "metadata": {
        "trusted": true
      },
      "cell_type": "code",
      "source": "#Add the three numbers.\n    total = num1 + num2 + num3 \n\n#Display the numbers and their total\n    print('The numbers are:',num1, num2, num3)\n    print('Their total is:', total)\n\n#Call the main function\nadd_numbers()\n\n# Open file for reading\n    infile = open('numbers.txt','r')\n\n#Read three numbers for the file\n   \n#Close the file.\n    infile.close()\n\n#Add the three numbers.\n    total = num1 + num2 + num3 \n\n#Display the numbers and their total\n    print('The numbers are:',num1, num2, num3)\n    print('Their total is:', total)\n\n#Call the main function\nadd_numbers()\n\n\n",
      "execution_count": null,
      "outputs": []
    },
    {
      "metadata": {
        "trusted": true
      },
      "cell_type": "code",
      "source": "def main():\n\n    #Get the name of a file\n    filename = input('Enter a filename:')\n    \n    try:\n        #Open the file.\n        infile = open(filename, 'r')\n        \n        #Read the file's contents.\n        contents = infile.read()\n        \n        #Display the file's contents.\n        print(contents)\n        \n        #Close file\n        infile.close()\n    except IOError:\n        print('An error ocurred trying to read')\n        print('the file', filename)\n        \n#Call the main function.\nmain()\n",
      "execution_count": null,
      "outputs": []
    },
    {
      "metadata": {
        "trusted": true
      },
      "cell_type": "code",
      "source": "",
      "execution_count": null,
      "outputs": []
    }
  ],
  "metadata": {
    "kernelspec": {
      "name": "python36",
      "display_name": "Python 3.6",
      "language": "python"
    },
    "language_info": {
      "mimetype": "text/x-python",
      "nbconvert_exporter": "python",
      "name": "python",
      "pygments_lexer": "ipython3",
      "version": "3.6.6",
      "file_extension": ".py",
      "codemirror_mode": {
        "version": 3,
        "name": "ipython"
      }
    }
  },
  "nbformat": 4,
  "nbformat_minor": 2
}