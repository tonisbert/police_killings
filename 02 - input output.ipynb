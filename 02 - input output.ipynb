{
  "cells": [
    {
      "metadata": {
        "trusted": true
      },
      "cell_type": "code",
      "source": "game = input(\"Enter a game title:\")",
      "execution_count": 20,
      "outputs": [
        {
          "output_type": "stream",
          "name": "stdout",
          "text": "Enter a game title:fifa20\n"
        }
      ]
    },
    {
      "metadata": {
        "trusted": true
      },
      "cell_type": "code",
      "source": "price = input(\"How much does  \"+ game +\" cost? $\")\nprice = float(price)",
      "execution_count": 22,
      "outputs": [
        {
          "output_type": "stream",
          "name": "stdout",
          "text": "How much does  fifa20 cost? $60\n"
        }
      ]
    },
    {
      "metadata": {
        "trusted": true
      },
      "cell_type": "code",
      "source": "print(\"Game:\" + game)\nprint(\"Price: $\" + str(price))",
      "execution_count": 23,
      "outputs": [
        {
          "output_type": "stream",
          "text": "Game:fifa20\nPrice: $60.0\n",
          "name": "stdout"
        }
      ]
    },
    {
      "metadata": {
        "trusted": true
      },
      "cell_type": "code",
      "source": "taxPrice = (price*0.065)\nprint(\"Sales Tax : $\" + str(taxPrice))",
      "execution_count": 24,
      "outputs": [
        {
          "output_type": "stream",
          "text": "Sales Tax : $3.9000000000000004\n",
          "name": "stdout"
        }
      ]
    },
    {
      "metadata": {
        "trusted": true
      },
      "cell_type": "code",
      "source": "total = price + taxPrice\nprint(\"Total: $\" + str(total))",
      "execution_count": 25,
      "outputs": [
        {
          "output_type": "stream",
          "text": "Total: $63.9\n",
          "name": "stdout"
        }
      ]
    },
    {
      "metadata": {
        "trusted": true
      },
      "cell_type": "code",
      "source": "format(12345.6789, \".2f\")\n\n",
      "execution_count": 26,
      "outputs": [
        {
          "output_type": "execute_result",
          "execution_count": 26,
          "data": {
            "text/plain": "'12345.68'"
          },
          "metadata": {}
        }
      ]
    },
    {
      "metadata": {
        "trusted": true
      },
      "cell_type": "code",
      "source": "print(\"Preformatted $\" + str(total))\nprint(\"Formatted $\" + format(total, \".2f\"))",
      "execution_count": 28,
      "outputs": [
        {
          "output_type": "stream",
          "text": "Preformatted $63.9\nFormatted $63.90\n",
          "name": "stdout"
        }
      ]
    },
    {
      "metadata": {
        "trusted": true
      },
      "cell_type": "code",
      "source": "thousandCopiesSoldTotal = total * 1000\nprint(\"thousandCopiesSoldTotal: $\" + format(thousandCopiesSoldTotal, \".2f\"))",
      "execution_count": 29,
      "outputs": [
        {
          "output_type": "stream",
          "text": "thousandCopiesSoldTotal: $63900.00\n",
          "name": "stdout"
        }
      ]
    },
    {
      "metadata": {
        "trusted": true
      },
      "cell_type": "code",
      "source": "\n",
      "execution_count": null,
      "outputs": []
    }
  ],
  "metadata": {
    "kernelspec": {
      "name": "python36",
      "display_name": "Python 3.6",
      "language": "python"
    },
    "language_info": {
      "mimetype": "text/x-python",
      "nbconvert_exporter": "python",
      "name": "python",
      "pygments_lexer": "ipython3",
      "version": "3.6.6",
      "file_extension": ".py",
      "codemirror_mode": {
        "version": 3,
        "name": "ipython"
      }
    }
  },
  "nbformat": 4,
  "nbformat_minor": 2
}